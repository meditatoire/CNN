{
 "cells": [
  {
   "cell_type": "markdown",
   "id": "4edd7a95-2fdb-43d3-9b79-4874b1f76f57",
   "metadata": {},
   "source": [
    "# "
   ]
  },
  {
   "cell_type": "code",
   "execution_count": 10,
   "id": "ce689122-dec0-4d93-bb44-ce538d6aa0cf",
   "metadata": {},
   "outputs": [],
   "source": [
    "import tensorflow as tf"
   ]
  },
  {
   "cell_type": "markdown",
   "id": "cedaf1b9",
   "metadata": {},
   "source": [
    "Implementing the LeNet model in TensorFlow"
   ]
  },
  {
   "cell_type": "code",
   "execution_count": 11,
   "id": "5b156acc-788a-4bb1-9a3c-4e16e83bee77",
   "metadata": {},
   "outputs": [],
   "source": [
    "class LeNet(tf.keras.Model):\n",
    "    def __init__(self, num_classes=10):\n",
    "        super().__init__()\n",
    "        self.conv1 = tf.keras.layers.Conv2D(filters=6, kernel_size=5,\n",
    "                                            activation='sigmoid', padding='same')\n",
    "        self.pool1 = tf.keras.layers.AvgPool2D(pool_size=2, strides=2)\n",
    "        self.conv2 = tf.keras.layers.Conv2D(filters=16, kernel_size=5,\n",
    "                                            activation='sigmoid')\n",
    "        self.pool2 = tf.keras.layers.AvgPool2D(pool_size=2, strides=2)\n",
    "        self.flatten = tf.keras.layers.Flatten()\n",
    "        self.dense1 = tf.keras.layers.Dense(120, activation='sigmoid')\n",
    "        self.dense2 = tf.keras.layers.Dense(84, activation='sigmoid')\n",
    "        self.dense3 = tf.keras.layers.Dense(num_classes)\n",
    "\n",
    "    def call(self, x):\n",
    "        x = self.conv1(x)\n",
    "        x = self.pool1(x)\n",
    "        x = self.conv2(x)\n",
    "        x = self.pool2(x)\n",
    "        x = self.flatten(x)\n",
    "        x = self.dense1(x)\n",
    "        x = self.dense2(x)\n",
    "        x = self.dense3(x)\n",
    "        return x"
   ]
  },
  {
   "cell_type": "markdown",
   "id": "b6779268",
   "metadata": {},
   "source": [
    "Preparing the fashion MNIST dataset"
   ]
  },
  {
   "cell_type": "code",
   "execution_count": 12,
   "id": "f2442d7f-f37d-4ba6-a869-b6f753a23256",
   "metadata": {},
   "outputs": [
    {
     "name": "stdout",
     "output_type": "stream",
     "text": [
      "Training dataset shape: 469\n",
      "Testing dataset shape: 79\n"
     ]
    }
   ],
   "source": [
    "(x_train, y_train), (x_test, y_test) = tf.keras.datasets.fashion_mnist.load_data()\n",
    "\n",
    "x_train = x_train.astype('float32') / 255.0\n",
    "x_test = x_test.astype('float32') / 255.0\n",
    "\n",
    "# adding a channel dimension to the input\n",
    "x_train = tf.expand_dims(x_train, axis=-1) \n",
    "x_test = tf.expand_dims(x_test, axis=-1)\n",
    "\n",
    "y_train = tf.one_hot(y_train, depth=10)\n",
    "y_test = tf.one_hot(y_test, depth=10)\n",
    "\n",
    "batch_size = 128\n",
    "train_dataset = tf.data.Dataset.from_tensor_slices((x_train, y_train))\n",
    "train_dataset = train_dataset.shuffle(buffer_size=1024).batch(batch_size)\n",
    "\n",
    "test_dataset = tf.data.Dataset.from_tensor_slices((x_test, y_test))\n",
    "test_dataset = test_dataset.batch(batch_size)\n",
    "\n",
    "print(\"Training dataset shape:\", tf.data.Dataset.cardinality(train_dataset).numpy())\n",
    "print(\"Testing dataset shape:\", tf.data.Dataset.cardinality(test_dataset).numpy())"
   ]
  },
  {
   "cell_type": "markdown",
   "id": "f72a3615",
   "metadata": {},
   "source": [
    "Implementing the training loop"
   ]
  },
  {
   "cell_type": "code",
   "execution_count": 13,
   "id": "39c43298",
   "metadata": {},
   "outputs": [
    {
     "name": "stdout",
     "output_type": "stream",
     "text": [
      "Epoch 1/10\n",
      "  Training Loss: 2.3088\n",
      "Epoch 2/10\n",
      "  Training Loss: 2.3068\n",
      "Epoch 3/10\n",
      "  Training Loss: 2.3041\n",
      "Epoch 4/10\n",
      "  Training Loss: 2.2757\n",
      "Epoch 5/10\n"
     ]
    },
    {
     "name": "stderr",
     "output_type": "stream",
     "text": [
      "2025-10-02 10:26:33.559447: I tensorflow/core/framework/local_rendezvous.cc:407] Local rendezvous is aborting with status: OUT_OF_RANGE: End of sequence\n"
     ]
    },
    {
     "name": "stdout",
     "output_type": "stream",
     "text": [
      "  Training Loss: 1.5860\n",
      "Epoch 6/10\n",
      "  Training Loss: 1.0939\n",
      "Epoch 7/10\n",
      "  Training Loss: 0.9437\n",
      "Epoch 8/10\n",
      "  Training Loss: 0.8578\n",
      "Epoch 9/10\n",
      "  Training Loss: 0.8041\n",
      "Epoch 10/10\n",
      "  Training Loss: 0.7552\n"
     ]
    }
   ],
   "source": [
    "model = LeNet(num_classes=10)\n",
    "loss_fn = tf.keras.losses.CategoricalCrossentropy(from_logits=True)\n",
    "optimizer = tf.keras.optimizers.SGD(learning_rate=0.1)\n",
    "epochs = 10\n",
    "\n",
    "for epoch in range(epochs):\n",
    "    print(f\"Epoch {epoch+1}/{epochs}\")\n",
    "    total_loss = 0.0\n",
    "    num_batches = 0\n",
    "    for step, (x_batch_train, y_batch_train) in enumerate(train_dataset):\n",
    "        with tf.GradientTape() as tape:\n",
    "            logits = model(x_batch_train, training=True)\n",
    "            loss_value = loss_fn(y_batch_train, logits)\n",
    "\n",
    "        grads = tape.gradient(loss_value, model.trainable_variables)\n",
    "        optimizer.apply_gradients(zip(grads, model.trainable_variables))\n",
    "\n",
    "        total_loss += loss_value.numpy()\n",
    "        num_batches += 1\n",
    "\n",
    "    avg_loss = total_loss / num_batches\n",
    "    print(f\"  Training Loss: {avg_loss:.4f}\")"
   ]
  },
  {
   "cell_type": "markdown",
   "id": "8adfc335",
   "metadata": {},
   "source": [
    "Evaluating the model"
   ]
  },
  {
   "cell_type": "code",
   "execution_count": 14,
   "id": "a194fe82",
   "metadata": {},
   "outputs": [
    {
     "name": "stdout",
     "output_type": "stream",
     "text": [
      "Test Accuracy: 0.7369\n"
     ]
    }
   ],
   "source": [
    "correct_predictions = 0\n",
    "total_samples = 0\n",
    "\n",
    "for x_batch_test, y_batch_test in test_dataset:\n",
    "    logits = model(x_batch_test, training=False)\n",
    "    predicted_classes = tf.argmax(logits, axis=1)\n",
    "    true_classes = tf.argmax(y_batch_test, axis=1)\n",
    "    correct_predictions += tf.reduce_sum(tf.cast(tf.equal(predicted_classes, true_classes), dtype=tf.int32)).numpy()\n",
    "    total_samples += x_batch_test.shape[0]\n",
    "\n",
    "accuracy = correct_predictions / total_samples\n",
    "print(f\"Test Accuracy: {accuracy:.4f}\")"
   ]
  }
 ],
 "metadata": {
  "kernelspec": {
   "display_name": "ai",
   "language": "python",
   "name": "python3"
  },
  "language_info": {
   "codemirror_mode": {
    "name": "ipython",
    "version": 3
   },
   "file_extension": ".py",
   "mimetype": "text/x-python",
   "name": "python",
   "nbconvert_exporter": "python",
   "pygments_lexer": "ipython3",
   "version": "3.12.11"
  }
 },
 "nbformat": 4,
 "nbformat_minor": 5
}
