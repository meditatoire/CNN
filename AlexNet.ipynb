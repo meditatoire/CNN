{
 "cells": [
  {
   "cell_type": "code",
   "execution_count": 3,
   "id": "c7c2bc29",
   "metadata": {},
   "outputs": [],
   "source": [
    "import tensorflow as tf"
   ]
  },
  {
   "cell_type": "code",
   "execution_count": 5,
   "id": "07728b65",
   "metadata": {},
   "outputs": [],
   "source": [
    "class AlexNet(tf.keras.Model):\n",
    "    def __init__ (self, num_classes=10):\n",
    "        super().__init__()\n",
    "        self.net = tf.keras.Sequential([\n",
    "            tf.keras.layers.Conv2D(filters=96, kernel_size=11, strides=4, activation='relu'),\n",
    "            tf.keras.layers.MaxPooling2D(pool_size=3, strides=2),\n",
    "            tf.keras.layers.Conv2D(filters=256, kernel_size=5, activation='relu', padding='same'),\n",
    "            tf.keras.layers.MaxPooling2D(pool_size=3, strides=2),\n",
    "            tf.keras.layers.Conv2D(filters=384, kernel_size=3, activation='relu', padding='same'),\n",
    "            tf.keras.layers.Conv2D(filters=384, kernel_size=3, activation='relu', padding='same'),\n",
    "            tf.keras.layers.Conv2D(filters=256, kernel_size=3, activation='relu', padding='same'),\n",
    "            tf.keras.layers.MaxPooling2D(pool_size=3, strides=2),\n",
    "            tf.keras.layers.Flatten(),\n",
    "            tf.keras.layers.Dense(4096, activation='relu'),\n",
    "            tf.keras.layers.Dense(4096, activation='relu'),\n",
    "            tf.keras.layers.Dense(num_classes)\n",
    "        ])\n",
    "    def call(self, x):\n",
    "        return self.net(x)\n",
    "        "
   ]
  },
  {
   "cell_type": "code",
   "execution_count": 8,
   "id": "e3f28ddc",
   "metadata": {},
   "outputs": [
    {
     "name": "stderr",
     "output_type": "stream",
     "text": [
      "2025-10-04 16:19:32.765877: W external/local_xla/xla/tsl/framework/bfc_allocator.cc:501] Allocator (mklcpu) ran out of memory trying to allocate 11.21GiB (rounded to 12042240000)requested by op ResizeBilinear\n",
      "If the cause is memory fragmentation maybe the environment variable 'TF_GPU_ALLOCATOR=cuda_malloc_async' will improve the situation. \n",
      "Current allocation summary follows.\n",
      "Current allocation summary follows.\n",
      "2025-10-04 16:19:32.766389: I external/local_xla/xla/tsl/framework/bfc_allocator.cc:1049] BFCAllocator dump for mklcpu\n",
      "2025-10-04 16:19:32.766740: I external/local_xla/xla/tsl/framework/bfc_allocator.cc:1056] Bin (256): \tTotal Chunks: 0, Chunks in use: 0. 0B allocated for chunks. 0B in use in bin. 0B client-requested in use in bin.\n",
      "2025-10-04 16:19:32.766750: I external/local_xla/xla/tsl/framework/bfc_allocator.cc:1056] Bin (512): \tTotal Chunks: 0, Chunks in use: 0. 0B allocated for chunks. 0B in use in bin. 0B client-requested in use in bin.\n",
      "2025-10-04 16:19:32.766753: I external/local_xla/xla/tsl/framework/bfc_allocator.cc:1056] Bin (1024): \tTotal Chunks: 0, Chunks in use: 0. 0B allocated for chunks. 0B in use in bin. 0B client-requested in use in bin.\n",
      "2025-10-04 16:19:32.766755: I external/local_xla/xla/tsl/framework/bfc_allocator.cc:1056] Bin (2048): \tTotal Chunks: 0, Chunks in use: 0. 0B allocated for chunks. 0B in use in bin. 0B client-requested in use in bin.\n",
      "2025-10-04 16:19:32.766757: I external/local_xla/xla/tsl/framework/bfc_allocator.cc:1056] Bin (4096): \tTotal Chunks: 0, Chunks in use: 0. 0B allocated for chunks. 0B in use in bin. 0B client-requested in use in bin.\n",
      "2025-10-04 16:19:32.766758: I external/local_xla/xla/tsl/framework/bfc_allocator.cc:1056] Bin (8192): \tTotal Chunks: 0, Chunks in use: 0. 0B allocated for chunks. 0B in use in bin. 0B client-requested in use in bin.\n",
      "2025-10-04 16:19:32.766760: I external/local_xla/xla/tsl/framework/bfc_allocator.cc:1056] Bin (16384): \tTotal Chunks: 0, Chunks in use: 0. 0B allocated for chunks. 0B in use in bin. 0B client-requested in use in bin.\n",
      "2025-10-04 16:19:32.766762: I external/local_xla/xla/tsl/framework/bfc_allocator.cc:1056] Bin (32768): \tTotal Chunks: 0, Chunks in use: 0. 0B allocated for chunks. 0B in use in bin. 0B client-requested in use in bin.\n",
      "2025-10-04 16:19:32.766763: I external/local_xla/xla/tsl/framework/bfc_allocator.cc:1056] Bin (65536): \tTotal Chunks: 0, Chunks in use: 0. 0B allocated for chunks. 0B in use in bin. 0B client-requested in use in bin.\n",
      "2025-10-04 16:19:32.766765: I external/local_xla/xla/tsl/framework/bfc_allocator.cc:1056] Bin (131072): \tTotal Chunks: 0, Chunks in use: 0. 0B allocated for chunks. 0B in use in bin. 0B client-requested in use in bin.\n",
      "2025-10-04 16:19:32.766767: I external/local_xla/xla/tsl/framework/bfc_allocator.cc:1056] Bin (262144): \tTotal Chunks: 0, Chunks in use: 0. 0B allocated for chunks. 0B in use in bin. 0B client-requested in use in bin.\n",
      "2025-10-04 16:19:32.766769: I external/local_xla/xla/tsl/framework/bfc_allocator.cc:1056] Bin (524288): \tTotal Chunks: 0, Chunks in use: 0. 0B allocated for chunks. 0B in use in bin. 0B client-requested in use in bin.\n",
      "2025-10-04 16:19:32.766770: I external/local_xla/xla/tsl/framework/bfc_allocator.cc:1056] Bin (1048576): \tTotal Chunks: 0, Chunks in use: 0. 0B allocated for chunks. 0B in use in bin. 0B client-requested in use in bin.\n",
      "2025-10-04 16:19:32.766772: I external/local_xla/xla/tsl/framework/bfc_allocator.cc:1056] Bin (2097152): \tTotal Chunks: 0, Chunks in use: 0. 0B allocated for chunks. 0B in use in bin. 0B client-requested in use in bin.\n",
      "2025-10-04 16:19:32.766774: I external/local_xla/xla/tsl/framework/bfc_allocator.cc:1056] Bin (4194304): \tTotal Chunks: 0, Chunks in use: 0. 0B allocated for chunks. 0B in use in bin. 0B client-requested in use in bin.\n",
      "2025-10-04 16:19:32.766776: I external/local_xla/xla/tsl/framework/bfc_allocator.cc:1056] Bin (8388608): \tTotal Chunks: 0, Chunks in use: 0. 0B allocated for chunks. 0B in use in bin. 0B client-requested in use in bin.\n",
      "2025-10-04 16:19:32.766777: I external/local_xla/xla/tsl/framework/bfc_allocator.cc:1056] Bin (16777216): \tTotal Chunks: 0, Chunks in use: 0. 0B allocated for chunks. 0B in use in bin. 0B client-requested in use in bin.\n",
      "2025-10-04 16:19:32.766782: I external/local_xla/xla/tsl/framework/bfc_allocator.cc:1056] Bin (33554432): \tTotal Chunks: 1, Chunks in use: 1. 44.86MiB allocated for chunks. 44.86MiB in use in bin. 44.86MiB client-requested in use in bin.\n",
      "2025-10-04 16:19:32.766784: I external/local_xla/xla/tsl/framework/bfc_allocator.cc:1056] Bin (67108864): \tTotal Chunks: 1, Chunks in use: 1. 64.00MiB allocated for chunks. 64.00MiB in use in bin. 44.86MiB client-requested in use in bin.\n",
      "2025-10-04 16:19:32.766786: I external/local_xla/xla/tsl/framework/bfc_allocator.cc:1056] Bin (134217728): \tTotal Chunks: 0, Chunks in use: 0. 0B allocated for chunks. 0B in use in bin. 0B client-requested in use in bin.\n",
      "2025-10-04 16:19:32.766788: I external/local_xla/xla/tsl/framework/bfc_allocator.cc:1056] Bin (268435456): \tTotal Chunks: 2, Chunks in use: 1. 15.14GiB allocated for chunks. 11.21GiB in use in bin. 11.21GiB client-requested in use in bin.\n",
      "2025-10-04 16:19:32.766791: I external/local_xla/xla/tsl/framework/bfc_allocator.cc:1072] Bin for 11.21GiB was 256.00MiB, Chunk State: \n",
      "2025-10-04 16:19:32.766797: I external/local_xla/xla/tsl/framework/bfc_allocator.cc:1078]   Size: 3.92GiB | Requested Size: 0B | in_use: 0 | bin_num: 20, prev:   Size: 44.86MiB | Requested Size: 44.86MiB | in_use: 1 | bin_num: -1\n",
      "2025-10-04 16:19:32.766801: I external/local_xla/xla/tsl/framework/bfc_allocator.cc:1085] Next region of size 16304406528\n",
      "2025-10-04 16:19:32.766806: I external/local_xla/xla/tsl/framework/bfc_allocator.cc:1105] InUse at 7f330403f040 of size 12042240000 next 2\n",
      "2025-10-04 16:19:32.766807: I external/local_xla/xla/tsl/framework/bfc_allocator.cc:1105] InUse at 7f35d1c9f040 of size 47040000 next 3\n",
      "2025-10-04 16:19:32.766809: I external/local_xla/xla/tsl/framework/bfc_allocator.cc:1105] Free  at 7f35d497b640 of size 4215126528 next 18446744073709551615\n",
      "2025-10-04 16:19:32.766810: I external/local_xla/xla/tsl/framework/bfc_allocator.cc:1085] Next region of size 67108864\n",
      "2025-10-04 16:19:32.766812: I external/local_xla/xla/tsl/framework/bfc_allocator.cc:1105] InUse at 7f375bfff040 of size 67108864 next 18446744073709551615\n",
      "2025-10-04 16:19:32.766813: I external/local_xla/xla/tsl/framework/bfc_allocator.cc:1110]      Summary of in-use Chunks by size: \n",
      "2025-10-04 16:19:32.766815: I external/local_xla/xla/tsl/framework/bfc_allocator.cc:1113] 1 Chunks of size 47040000 totalling 44.86MiB\n",
      "2025-10-04 16:19:32.766817: I external/local_xla/xla/tsl/framework/bfc_allocator.cc:1113] 1 Chunks of size 67108864 totalling 64.00MiB\n",
      "2025-10-04 16:19:32.766819: I external/local_xla/xla/tsl/framework/bfc_allocator.cc:1113] 1 Chunks of size 12042240000 totalling 11.21GiB\n",
      "2025-10-04 16:19:32.766821: I external/local_xla/xla/tsl/framework/bfc_allocator.cc:1117] Sum Total of in-use chunks: 11.32GiB\n",
      "2025-10-04 16:19:32.766823: I external/local_xla/xla/tsl/framework/bfc_allocator.cc:1119] Total bytes in pool: 16371515392 memory_limit_: 16371515392 available bytes: 0 curr_region_allocation_bytes_: 17179869184\n",
      "2025-10-04 16:19:32.766829: I external/local_xla/xla/tsl/framework/bfc_allocator.cc:1124] Stats: \n",
      "Limit:                     16371515392\n",
      "InUse:                     12156388864\n",
      "MaxInUse:                  12156388864\n",
      "NumAllocs:                           5\n",
      "MaxAllocSize:              12042240000\n",
      "Reserved:                            0\n",
      "PeakReserved:                        0\n",
      "LargestFreeBlock:                    0\n",
      "\n",
      "2025-10-04 16:19:32.766832: W external/local_xla/xla/tsl/framework/bfc_allocator.cc:512] **************************************************************************_________________________*\n",
      "2025-10-04 16:19:32.766851: W tensorflow/core/framework/op_kernel.cc:1855] OP_REQUIRES failed at image_resizer_state.h:154 : RESOURCE_EXHAUSTED: OOM when allocating tensor with shape[60000,224,224,1] and type float on /job:localhost/replica:0/task:0/device:CPU:0 by allocator mklcpu\n",
      "2025-10-04 16:19:32.766861: I tensorflow/core/framework/local_rendezvous.cc:407] Local rendezvous is aborting with status: RESOURCE_EXHAUSTED: OOM when allocating tensor with shape[60000,224,224,1] and type float on /job:localhost/replica:0/task:0/device:CPU:0 by allocator mklcpu\n"
     ]
    },
    {
     "ename": "ResourceExhaustedError",
     "evalue": "{{function_node __wrapped__ResizeBilinear_device_/job:localhost/replica:0/task:0/device:CPU:0}} OOM when allocating tensor with shape[60000,224,224,1] and type float on /job:localhost/replica:0/task:0/device:CPU:0 by allocator mklcpu [Op:ResizeBilinear] name: ",
     "output_type": "error",
     "traceback": [
      "\u001b[31m---------------------------------------------------------------------------\u001b[39m",
      "\u001b[31mResourceExhaustedError\u001b[39m                    Traceback (most recent call last)",
      "\u001b[36mCell\u001b[39m\u001b[36m \u001b[39m\u001b[32mIn[8]\u001b[39m\u001b[32m, line 8\u001b[39m\n\u001b[32m      6\u001b[39m     image = image.astype(\u001b[33m'\u001b[39m\u001b[33mfloat32\u001b[39m\u001b[33m'\u001b[39m)/\u001b[32m255.0\u001b[39m\n\u001b[32m      7\u001b[39m     \u001b[38;5;28;01mreturn\u001b[39;00m image\n\u001b[32m----> \u001b[39m\u001b[32m8\u001b[39m x_train = \u001b[43mpreprocess\u001b[49m\u001b[43m(\u001b[49m\u001b[43mx_train\u001b[49m\u001b[43m)\u001b[49m\n\u001b[32m      9\u001b[39m x_test = preprocess(x_test)\n\u001b[32m     11\u001b[39m train_ds = tf.data.Dataset.from_tensor_slices((x_train, y_train))\n",
      "\u001b[36mCell\u001b[39m\u001b[36m \u001b[39m\u001b[32mIn[8]\u001b[39m\u001b[32m, line 5\u001b[39m, in \u001b[36mpreprocess\u001b[39m\u001b[34m(image)\u001b[39m\n\u001b[32m      3\u001b[39m \u001b[38;5;28;01mdef\u001b[39;00m\u001b[38;5;250m \u001b[39m\u001b[34mpreprocess\u001b[39m(image):\n\u001b[32m      4\u001b[39m     image = tf.expand_dims(image, axis=-\u001b[32m1\u001b[39m)\n\u001b[32m----> \u001b[39m\u001b[32m5\u001b[39m     image = \u001b[43mtf\u001b[49m\u001b[43m.\u001b[49m\u001b[43mimage\u001b[49m\u001b[43m.\u001b[49m\u001b[43mresize\u001b[49m\u001b[43m(\u001b[49m\u001b[43mimage\u001b[49m\u001b[43m,\u001b[49m\u001b[43m \u001b[49m\u001b[43m[\u001b[49m\u001b[32;43m224\u001b[39;49m\u001b[43m,\u001b[49m\u001b[43m \u001b[49m\u001b[32;43m224\u001b[39;49m\u001b[43m]\u001b[49m\u001b[43m)\u001b[49m \u001b[38;5;66;03m#AlexNet takes a 224x224 image the fashion MNIST images are 28x28\u001b[39;00m\n\u001b[32m      6\u001b[39m     image = image.astype(\u001b[33m'\u001b[39m\u001b[33mfloat32\u001b[39m\u001b[33m'\u001b[39m)/\u001b[32m255.0\u001b[39m\n\u001b[32m      7\u001b[39m     \u001b[38;5;28;01mreturn\u001b[39;00m image\n",
      "\u001b[36mFile \u001b[39m\u001b[32m~/ProgramFiles/anaconda3/envs/ai/lib/python3.12/site-packages/tensorflow/python/util/traceback_utils.py:153\u001b[39m, in \u001b[36mfilter_traceback.<locals>.error_handler\u001b[39m\u001b[34m(*args, **kwargs)\u001b[39m\n\u001b[32m    151\u001b[39m \u001b[38;5;28;01mexcept\u001b[39;00m \u001b[38;5;167;01mException\u001b[39;00m \u001b[38;5;28;01mas\u001b[39;00m e:\n\u001b[32m    152\u001b[39m   filtered_tb = _process_traceback_frames(e.__traceback__)\n\u001b[32m--> \u001b[39m\u001b[32m153\u001b[39m   \u001b[38;5;28;01mraise\u001b[39;00m e.with_traceback(filtered_tb) \u001b[38;5;28;01mfrom\u001b[39;00m\u001b[38;5;250m \u001b[39m\u001b[38;5;28;01mNone\u001b[39;00m\n\u001b[32m    154\u001b[39m \u001b[38;5;28;01mfinally\u001b[39;00m:\n\u001b[32m    155\u001b[39m   \u001b[38;5;28;01mdel\u001b[39;00m filtered_tb\n",
      "\u001b[36mFile \u001b[39m\u001b[32m~/ProgramFiles/anaconda3/envs/ai/lib/python3.12/site-packages/tensorflow/python/framework/ops.py:6027\u001b[39m, in \u001b[36mraise_from_not_ok_status\u001b[39m\u001b[34m(e, name)\u001b[39m\n\u001b[32m   6025\u001b[39m \u001b[38;5;28;01mdef\u001b[39;00m\u001b[38;5;250m \u001b[39m\u001b[34mraise_from_not_ok_status\u001b[39m(e, name) -> NoReturn:\n\u001b[32m   6026\u001b[39m   e.message += (\u001b[33m\"\u001b[39m\u001b[33m name: \u001b[39m\u001b[33m\"\u001b[39m + \u001b[38;5;28mstr\u001b[39m(name \u001b[38;5;28;01mif\u001b[39;00m name \u001b[38;5;129;01mis\u001b[39;00m \u001b[38;5;129;01mnot\u001b[39;00m \u001b[38;5;28;01mNone\u001b[39;00m \u001b[38;5;28;01melse\u001b[39;00m \u001b[33m\"\u001b[39m\u001b[33m\"\u001b[39m))\n\u001b[32m-> \u001b[39m\u001b[32m6027\u001b[39m   \u001b[38;5;28;01mraise\u001b[39;00m core._status_to_exception(e) \u001b[38;5;28;01mfrom\u001b[39;00m\u001b[38;5;250m \u001b[39m\u001b[38;5;28;01mNone\u001b[39;00m\n",
      "\u001b[31mResourceExhaustedError\u001b[39m: {{function_node __wrapped__ResizeBilinear_device_/job:localhost/replica:0/task:0/device:CPU:0}} OOM when allocating tensor with shape[60000,224,224,1] and type float on /job:localhost/replica:0/task:0/device:CPU:0 by allocator mklcpu [Op:ResizeBilinear] name: "
     ]
    }
   ],
   "source": [
    "(x_train, y_train), (x_test, y_test) = tf.keras.datasets.fashion_mnist.load_data()\n",
    "\n",
    "def preprocess(image):\n",
    "    image = tf.expand_dims(image, axis=-1)\n",
    "    image = tf.image.resize(image, [224, 224]) #AlexNet takes a 224x224 image the fashion MNIST images are 28x28\n",
    "    image = image.astype('float32')/255.0\n",
    "    return image\n",
    "x_train = preprocess(x_train)\n",
    "x_test = preprocess(x_test)\n",
    "\n",
    "train_ds = tf.data.Dataset.from_tensor_slices((x_train, y_train))\n",
    "test_ds = tf.data.Dataset.from_tensor_slices((x_test, y_test))\n",
    "\n",
    "batch_size= 128\n",
    "train_ds = tf.data.Dataset.shuffle(buffer_size=1024).batch(batch_size)\n",
    "test_de = tf.data.Dataset.batch(batch_size)"
   ]
  },
  {
   "cell_type": "code",
   "execution_count": 24,
   "id": "8121c496",
   "metadata": {},
   "outputs": [
    {
     "ename": "TypeError",
     "evalue": "sparse_categorical_crossentropy() missing 2 required positional arguments: 'y_true' and 'y_pred'",
     "output_type": "error",
     "traceback": [
      "\u001b[31m---------------------------------------------------------------------------\u001b[39m",
      "\u001b[31mTypeError\u001b[39m                                 Traceback (most recent call last)",
      "\u001b[36mCell\u001b[39m\u001b[36m \u001b[39m\u001b[32mIn[24]\u001b[39m\u001b[32m, line 2\u001b[39m\n\u001b[32m      1\u001b[39m model = AlexNet()\n\u001b[32m----> \u001b[39m\u001b[32m2\u001b[39m model.compile(loss=\u001b[43mtf\u001b[49m\u001b[43m.\u001b[49m\u001b[43mkeras\u001b[49m\u001b[43m.\u001b[49m\u001b[43mlosses\u001b[49m\u001b[43m.\u001b[49m\u001b[43msparse_categorical_crossentropy\u001b[49m\u001b[43m(\u001b[49m\u001b[43mfrom_logits\u001b[49m\u001b[43m=\u001b[49m\u001b[38;5;28;43;01mTrue\u001b[39;49;00m\u001b[43m)\u001b[49m,\n\u001b[32m      3\u001b[39m               optimizer=tf.keras.optimizers.sgd(lr=\u001b[32m0.01\u001b[39m),\n\u001b[32m      4\u001b[39m               metrics=[\u001b[33m'\u001b[39m\u001b[33maccuracy\u001b[39m\u001b[33m'\u001b[39m])\n",
      "\u001b[31mTypeError\u001b[39m: sparse_categorical_crossentropy() missing 2 required positional arguments: 'y_true' and 'y_pred'"
     ]
    }
   ],
   "source": [
    "model = AlexNet()\n",
    "model.compile(loss=tf.keras.losses.sparse_categorical_crossentropy(from_logits=True),\n",
    "              optimizer=tf.keras.optimizers.sgd(lr=0.01),\n",
    "              metrics=['accuracy'])"
   ]
  },
  {
   "cell_type": "code",
   "execution_count": null,
   "id": "0fb709c1",
   "metadata": {},
   "outputs": [],
   "source": []
  },
  {
   "cell_type": "code",
   "execution_count": 22,
   "id": "de0e10e9",
   "metadata": {},
   "outputs": [
    {
     "data": {
      "text/plain": [
       "TensorShape([224, 224, 1])"
      ]
     },
     "execution_count": 22,
     "metadata": {},
     "output_type": "execute_result"
    }
   ],
   "source": [
    "x = tf.constant(tf.random.normal([28,28]))\n",
    "x.shape\n",
    "x = tf.expand_dims(x, axis=-1)\n",
    "x = tf.image.resize(x, [224,224])\n",
    "x.shape"
   ]
  }
 ],
 "metadata": {
  "kernelspec": {
   "display_name": "ai",
   "language": "python",
   "name": "python3"
  },
  "language_info": {
   "codemirror_mode": {
    "name": "ipython",
    "version": 3
   },
   "file_extension": ".py",
   "mimetype": "text/x-python",
   "name": "python",
   "nbconvert_exporter": "python",
   "pygments_lexer": "ipython3",
   "version": "3.12.11"
  }
 },
 "nbformat": 4,
 "nbformat_minor": 5
}
